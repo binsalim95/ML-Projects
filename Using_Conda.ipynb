{
  "nbformat": 4,
  "nbformat_minor": 0,
  "metadata": {
    "colab": {
      "name": "Using_Conda.ipynb",
      "provenance": [],
      "collapsed_sections": [],
      "authorship_tag": "ABX9TyOl9Bey+GTdz2EkpYfK+Rzs",
      "include_colab_link": true
    },
    "kernelspec": {
      "name": "python3",
      "display_name": "Python 3"
    }
  },
  "cells": [
    {
      "cell_type": "markdown",
      "metadata": {
        "id": "view-in-github",
        "colab_type": "text"
      },
      "source": [
        "<a href=\"https://colab.research.google.com/github/binsalim95/ML-Projects/blob/main/Using_Conda.ipynb\" target=\"_parent\"><img src=\"https://colab.research.google.com/assets/colab-badge.svg\" alt=\"Open In Colab\"/></a>"
      ]
    },
    {
      "cell_type": "markdown",
      "metadata": {
        "id": "9V2vDjEdKUBX"
      },
      "source": [
        "  In the previous section, you've seen how you can use the pip package manager to install (pip install) packages on Python. While it is powerful, the pip package manager is only able to install packages that are written exclusively in Python. In cases where you need packages from other languages (C, R, Java, etc.) the Conda Package Manager is better suited. Conda allows you to switch between and manage multiple general purpose environments across multiple other things can vary in version number, like C-libraries, or compilers, or test-suites, or database engines and so on.  "
      ]
    },
    {
      "cell_type": "markdown",
      "metadata": {
        "id": "sTwUgOl3NO8E"
      },
      "source": [
        "## Updating Anaconda\r\n",
        "\r\n",
        "1. Open up a terminal  (Anaconda Command Prompt or Command Line)\r\n",
        "\r\n",
        "2. Type conda list\r\n",
        "\r\n",
        "3. Type conda update conda\r\n",
        "\r\n",
        "4. Type conda update anaconda\r\n",
        "\r\n",
        "For more information on conda, type conda help in a terminal.\r\n",
        "\r\n",
        "Let's run these steps together!"
      ]
    },
    {
      "cell_type": "markdown",
      "metadata": {
        "id": "NDmZruxFwZCs"
      },
      "source": [
        "Now that we have things opened up, let's practice running cells in the notebook. Write down any arithmetic operation and run the cell using 'Ctrl+Shift'."
      ]
    },
    {
      "cell_type": "code",
      "metadata": {
        "colab": {
          "base_uri": "https://localhost:8080/"
        },
        "id": "EirPGOCBzsvP",
        "outputId": "bb35ccfe-af44-4fc8-ea97-9ff8283490e7"
      },
      "source": [
        "5+5"
      ],
      "execution_count": 2,
      "outputs": [
        {
          "output_type": "execute_result",
          "data": {
            "text/plain": [
              "10"
            ]
          },
          "metadata": {
            "tags": []
          },
          "execution_count": 2
        }
      ]
    },
    {
      "cell_type": "code",
      "metadata": {
        "colab": {
          "base_uri": "https://localhost:8080/"
        },
        "id": "5YtXsxge00CP",
        "outputId": "091bfeb2-d073-4b6e-91b8-5c93993cb086"
      },
      "source": [
        "x = 30 + 20\r\n",
        "print (x)"
      ],
      "execution_count": 3,
      "outputs": [
        {
          "output_type": "stream",
          "text": [
            "50\n"
          ],
          "name": "stdout"
        }
      ]
    },
    {
      "cell_type": "code",
      "metadata": {
        "colab": {
          "base_uri": "https://localhost:8080/"
        },
        "id": "OApVbvNT1E3V",
        "outputId": "5c6b0495-b12c-4808-86d3-021af3218700"
      },
      "source": [
        "print (\"Hello World\")"
      ],
      "execution_count": 4,
      "outputs": [
        {
          "output_type": "stream",
          "text": [
            "Hello World\n"
          ],
          "name": "stdout"
        }
      ]
    },
    {
      "cell_type": "markdown",
      "metadata": {
        "id": "BZssCeTd1ZM6"
      },
      "source": [
        "## Working with Python Files\r\n",
        "\r\n",
        "So far we’ve focused on executing Python code entered into a Jupyter notebook cell.\r\n",
        "\r\n",
        "Traditionally most Python code has been run in a different way.\r\n",
        "\r\n",
        "Code is first saved in a text file on a local machine\r\n",
        "\r\n",
        "By convention, these text files have a .py extension.\r\n",
        "\r\n",
        "We can create an example of such a file as follows:"
      ]
    },
    {
      "cell_type": "code",
      "metadata": {
        "colab": {
          "base_uri": "https://localhost:8080/"
        },
        "id": "nfOCVciL1wN-",
        "outputId": "3d45fcd6-b18a-4763-b7a3-b1bc39eaadd8"
      },
      "source": [
        "%%file foo.py\r\n",
        "\r\n",
        "print(\"foobar\")"
      ],
      "execution_count": 5,
      "outputs": [
        {
          "output_type": "stream",
          "text": [
            "Writing foo.py\n"
          ],
          "name": "stdout"
        }
      ]
    },
    {
      "cell_type": "markdown",
      "metadata": {
        "id": "qwYCf1GY1_rB"
      },
      "source": [
        "This writes the line print(\"foobar\") into a file called foo.py in the local directory.\r\n",
        "\r\n",
        "Here %%file is an example of a cell magic."
      ]
    }
  ]
}